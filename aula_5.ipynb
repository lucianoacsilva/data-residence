{
 "cells": [
  {
   "cell_type": "markdown",
   "metadata": {},
   "source": [
    "# Aula 5"
   ]
  },
  {
   "attachments": {},
   "cell_type": "markdown",
   "metadata": {},
   "source": [
    "## Exercício 1"
   ]
  },
  {
   "cell_type": "code",
   "execution_count": 1,
   "metadata": {},
   "outputs": [
    {
     "name": "stdout",
     "output_type": "stream",
     "text": [
      "Quantidade de números: \n",
      "Digite os números: \n",
      "Média: 5.0; Máximo: 9; Mínimo: 1\n"
     ]
    }
   ],
   "source": [
    "def media(valores: list[int]) -> float:\n",
    "    soma: int = 0\n",
    "\n",
    "    for n in valores:\n",
    "        soma += n\n",
    "    \n",
    "    return soma/len(valores)\n",
    "\n",
    "def maximo(valores: list[int]) -> int:\n",
    "    maximo: int = valores[0]\n",
    "\n",
    "    for n in range(1, len(valores) - 1):\n",
    "        if valores[n] > maximo: maximo = valores[n]\n",
    "\n",
    "    return maximo\n",
    "\n",
    "def minimo(valores: list[int]) -> int:\n",
    "    minimo: int = valores[0]\n",
    "\n",
    "    for n in range(1, len(valores) - 1):\n",
    "        if valores[n] < minimo: minimo = valores[n]\n",
    "\n",
    "    return minimo\n",
    "\n",
    "quantidade_numeros: int = 0\n",
    "numeros: list[int] = []\n",
    "\n",
    "print(\"Quantidade de números: \")\n",
    "quantidade_numeros = int(input())\n",
    "\n",
    "print(\"Digite os números: \")\n",
    "\n",
    "for i in range(quantidade_numeros):\n",
    "    numeros.append(int(input()))\n",
    "\n",
    "print(\"Média: {}; Máximo: {}; Mínimo: {}\".format(\n",
    "    str(media(numeros)),\n",
    "    str(maximo(numeros)),\n",
    "    str(minimo(numeros))\n",
    "))\n"
   ]
  },
  {
   "attachments": {},
   "cell_type": "markdown",
   "metadata": {},
   "source": [
    "## Exercício 2:"
   ]
  },
  {
   "cell_type": "code",
   "execution_count": 4,
   "metadata": {},
   "outputs": [
    {
     "name": "stdout",
     "output_type": "stream",
     "text": [
      "Quantidade de números: \n",
      "Digite os números: \n",
      "6\n",
      "10\n",
      "8\n",
      "9\n"
     ]
    }
   ],
   "source": [
    "def imprime_reverso(valores: list[int]) -> None:\n",
    "    for n in range(len(valores) -1, -1, -1):\n",
    "        print(valores[n])\n",
    "\n",
    "quantidade_numeros: int = 0\n",
    "valores: list[int] = []\n",
    "\n",
    "print(\"Quantidade de números: \")\n",
    "quantidade_numeros = int(input())\n",
    "\n",
    "print(\"Digite os números: \")\n",
    "\n",
    "for i in range(quantidade_numeros):\n",
    "    valores.append(int(input()))\n",
    "\n",
    "imprime_reverso(valores)"
   ]
  },
  {
   "attachments": {},
   "cell_type": "markdown",
   "metadata": {},
   "source": [
    "## Exercício 3"
   ]
  },
  {
   "cell_type": "code",
   "execution_count": 7,
   "metadata": {},
   "outputs": [
    {
     "name": "stdout",
     "output_type": "stream",
     "text": [
      "Número de alunos: \n",
      "Notas dos alunos: \n",
      "Aluno 0: \n",
      "Prova 0: \n",
      "Prova 1: \n",
      "Prova 2: \n",
      "Prova 3: \n",
      "Aluno 1: \n",
      "Prova 0: \n",
      "Prova 1: \n",
      "Prova 2: \n",
      "Prova 3: \n",
      "Notas dos alunos: [[3.0, 8.0, 7.0, 2.0], [10.0, 5.0, 5.0, 4.0]]\n",
      "Média dos alunos: [5.0, 6.0]\n"
     ]
    }
   ],
   "source": [
    "def media(valores: list[float]) -> float:\n",
    "    soma: int = 0\n",
    "\n",
    "    for n in valores:\n",
    "        soma += n\n",
    "    \n",
    "    return soma/len(valores)\n",
    "\n",
    "numero_alunos: int = 0\n",
    "notas: list[list[float]] = []\n",
    "medias: list[float] = []\n",
    "\n",
    "print(\"Número de alunos: \")\n",
    "numero_alunos = int(input())\n",
    "\n",
    "print(\"Notas dos alunos: \")\n",
    "\n",
    "for i in range(numero_alunos):\n",
    "    notas_aluno: list[float] = []\n",
    "    print(\"Aluno {}: \".format(str(i)))\n",
    "\n",
    "    for j in range(4):\n",
    "        print(\"Prova {}: \".format(str(j)))\n",
    "        notas_aluno.append(float(input()))\n",
    "\n",
    "    notas.append(notas_aluno)\n",
    "    medias.append(media(notas_aluno))\n",
    "\n",
    "print(\"Notas dos alunos: {}\".format(str(notas)))\n",
    "print(\"Média dos alunos: {}\".format(str(medias)))\n",
    "\n",
    "\n",
    "\n",
    "\n"
   ]
  },
  {
   "attachments": {},
   "cell_type": "markdown",
   "metadata": {},
   "source": [
    "## Exercício 4"
   ]
  },
  {
   "cell_type": "code",
   "execution_count": 8,
   "metadata": {},
   "outputs": [
    {
     "name": "stdout",
     "output_type": "stream",
     "text": [
      "Quantidade de números: \n",
      "Digite os números: \n",
      "[2, 3, 4, 8]\n"
     ]
    }
   ],
   "source": [
    "def ordenar(valores: list[int]) -> None:\n",
    "    valores.sort()\n",
    "\n",
    "quantidade_numeros: int = 0\n",
    "valores: list[int] = []\n",
    "\n",
    "print(\"Quantidade de números: \")\n",
    "quantidade_numeros = int(input())\n",
    "\n",
    "print(\"Digite os números: \")\n",
    "\n",
    "for i in range(quantidade_numeros):\n",
    "    valores.append(int(input()))\n",
    "\n",
    "ordenar(valores)\n",
    "print(str(valores))"
   ]
  },
  {
   "attachments": {},
   "cell_type": "markdown",
   "metadata": {},
   "source": [
    "## Exercício 8"
   ]
  },
  {
   "cell_type": "code",
   "execution_count": 10,
   "metadata": {},
   "outputs": [
    {
     "name": "stdout",
     "output_type": "stream",
     "text": [
      "Número: \n",
      "Digite os nomes; \n",
      "Nome a consultar: \n",
      "Nomes: ['João', 'Maria', 'Jose´']\n",
      "Status de Barnabé: NÃO CADASTRADO\n"
     ]
    }
   ],
   "source": [
    "def is_cadastrado(nomes: list[str], nome_consulta: str) -> str:\n",
    "    return \"CADASTRADO\" if nome_consulta in nomes else \"NÃO CADASTRADO\"\n",
    "\n",
    "nomes: list[str] = []\n",
    "numero: int = 0\n",
    "nome_consulta: str = \"\"\n",
    "\n",
    "print(\"Número: \")\n",
    "numero = int(input())\n",
    "\n",
    "print(\"Digite os nomes; \")\n",
    "\n",
    "for i in range(numero):\n",
    "    nomes.append(input())\n",
    "\n",
    "print(\"Nome a consultar: \")\n",
    "nome_consulta = input()\n",
    "\n",
    "print(\"Nomes: {}\".format(str(nomes)))\n",
    "print(\"Status de {}: {}\".format(nome_consulta, is_cadastrado(nomes, nome_consulta)))\n",
    "\n"
   ]
  },
  {
   "attachments": {},
   "cell_type": "markdown",
   "metadata": {},
   "source": [
    "## Exercício 9"
   ]
  },
  {
   "cell_type": "code",
   "execution_count": 12,
   "metadata": {},
   "outputs": [
    {
     "name": "stdout",
     "output_type": "stream",
     "text": [
      "Número:\n",
      "Meia pirâmide: \n",
      "\n",
      "*\n",
      "**\n",
      "***\n",
      "****\n",
      "*****\n",
      "******\n"
     ]
    }
   ],
   "source": [
    "def meia_piramide(numero: int) -> None:\n",
    "    for i in range(numero + 1):\n",
    "        print(\"*\" * i)\n",
    "\n",
    "numero: int = 0\n",
    "\n",
    "print(\"Número:\")\n",
    "numero = int(input())\n",
    "\n",
    "print(\"Meia pirâmide: \")\n",
    "meia_piramide(numero)"
   ]
  },
  {
   "attachments": {},
   "cell_type": "markdown",
   "metadata": {},
   "source": [
    "## Exercício 10"
   ]
  },
  {
   "cell_type": "code",
   "execution_count": 14,
   "metadata": {},
   "outputs": [
    {
     "name": "stdout",
     "output_type": "stream",
     "text": [
      "Número:\n",
      "Pirâmide completa: \n",
      "     *     \n",
      "    ***    \n",
      "   *****   \n",
      "  *******  \n",
      " ********* \n",
      "***********\n"
     ]
    }
   ],
   "source": [
    "def meia_piramide(numero: int) -> None:\n",
    "    for i in range(1, numero + 1):\n",
    "        borda: int = numero - i\n",
    "        print(\" \" * borda + \"*\" * (2 * i - 1) + \" \" * borda)\n",
    "\n",
    "numero: int = 0\n",
    "\n",
    "print(\"Número:\")\n",
    "numero = int(input())\n",
    "\n",
    "print(\"Pirâmide completa: \")\n",
    "meia_piramide(numero)"
   ]
  }
 ],
 "metadata": {
  "kernelspec": {
   "display_name": "Python 3",
   "language": "python",
   "name": "python3"
  },
  "language_info": {
   "codemirror_mode": {
    "name": "ipython",
    "version": 3
   },
   "file_extension": ".py",
   "mimetype": "text/x-python",
   "name": "python",
   "nbconvert_exporter": "python",
   "pygments_lexer": "ipython3",
   "version": "3.11.2"
  },
  "orig_nbformat": 4
 },
 "nbformat": 4,
 "nbformat_minor": 2
}
