{
 "cells": [
  {
   "attachments": {},
   "cell_type": "markdown",
   "metadata": {},
   "source": [
    "# Aula 4"
   ]
  },
  {
   "attachments": {},
   "cell_type": "markdown",
   "metadata": {},
   "source": [
    "## Exercício 1"
   ]
  },
  {
   "cell_type": "code",
   "execution_count": 3,
   "metadata": {},
   "outputs": [
    {
     "name": "stdout",
     "output_type": "stream",
     "text": [
      "Limite inferior: \n",
      "Limite superior: \n",
      "Números entre 3 e 8: \n",
      "3\n",
      "4\n",
      "5\n",
      "6\n",
      "7\n",
      "8\n"
     ]
    }
   ],
   "source": [
    "def intervalo(inferior: int, superior: int) -> None:\n",
    "    for i in range(inferior, superior + 1):\n",
    "        print(i)\n",
    "\n",
    "inferior: int = 0\n",
    "superior: int = 0\n",
    "\n",
    "print(\"Limite inferior: \")\n",
    "inferior = int(input())\n",
    "\n",
    "print(\"Limite superior: \")\n",
    "superior = int(input())\n",
    "\n",
    "print(\"Números entre {} e {}: \".format(str(inferior), str(superior)))\n",
    "intervalo(inferior, superior)"
   ]
  },
  {
   "attachments": {},
   "cell_type": "markdown",
   "metadata": {},
   "source": [
    "## Exercício 2"
   ]
  },
  {
   "cell_type": "code",
   "execution_count": 3,
   "metadata": {},
   "outputs": [
    {
     "name": "stdout",
     "output_type": "stream",
     "text": [
      "Quantidade de valores: \n",
      "Insira valores: \n",
      "Media: 5.0\n"
     ]
    }
   ],
   "source": [
    "def media(valores: list[float]) -> float:\n",
    "    media: float = 0\n",
    "\n",
    "    for val in valores:\n",
    "        media += val\n",
    "\n",
    "    return media/len(valores)\n",
    "\n",
    "valores: list[float] = []\n",
    "tamanho_valores: int = 0\n",
    "\n",
    "print(\"Quantidade de valores: \")\n",
    "tamanho_valores = int(input())\n",
    "\n",
    "print(\"Insira valores: \")\n",
    "\n",
    "for i in range(tamanho_valores):\n",
    "    valores.append(float(input()))\n",
    "\n",
    "print(\"Media: {}\".format(str(media(valores))))\n"
   ]
  },
  {
   "attachments": {},
   "cell_type": "markdown",
   "metadata": {},
   "source": [
    "## Exercício 3"
   ]
  },
  {
   "cell_type": "code",
   "execution_count": 7,
   "metadata": {},
   "outputs": [
    {
     "name": "stdout",
     "output_type": "stream",
     "text": [
      "Quantidade de valores: \n",
      "Insira valores: \n",
      "Media: 5.0; Mínimo: 3.0; Máximo: 7.0\n"
     ]
    }
   ],
   "source": [
    "def media(valores: list[float]) -> float:\n",
    "    media: float = 0\n",
    "\n",
    "    for val in valores:\n",
    "        media += val\n",
    "\n",
    "    return media/len(valores)\n",
    "\n",
    "def valor_minimo(valores: list[float]) -> float:\n",
    "    val_minimo: float = valores[0]\n",
    "\n",
    "    for val in valores:\n",
    "        if val_minimo > val: val_minimo = val\n",
    "\n",
    "    return val_minimo\n",
    "\n",
    "def valor_maximo(valores: list[float]) -> float:\n",
    "    val_maximo: float = valores[0]\n",
    "\n",
    "    for val in valores:\n",
    "        if val_maximo < val: val_maximo = val\n",
    "\n",
    "    return val_maximo\n",
    "\n",
    "valores: list[float] = []\n",
    "tamanho_valores: int = 0\n",
    "\n",
    "print(\"Quantidade de valores: \")\n",
    "tamanho_valores = int(input())\n",
    "\n",
    "print(\"Insira valores: \")\n",
    "\n",
    "for i in range(tamanho_valores):\n",
    "    valores.append(float(input()))\n",
    "\n",
    "print(\"Media: {}; Mínimo: {}; Máximo: {}\".format(\n",
    "    str(media(valores)), \n",
    "    str(valor_minimo(valores)), \n",
    "    str(valor_maximo(valores))\n",
    "))"
   ]
  },
  {
   "attachments": {},
   "cell_type": "markdown",
   "metadata": {},
   "source": [
    "## Exercício 4"
   ]
  },
  {
   "cell_type": "code",
   "execution_count": 18,
   "metadata": {},
   "outputs": [
    {
     "name": "stdout",
     "output_type": "stream",
     "text": [
      "Número: \n",
      "Fatorial: de 7: 5040\n"
     ]
    }
   ],
   "source": [
    "def fatorial(numero: int) -> int:\n",
    "    if (numero == 1)| (numero == 0): return 1\n",
    "    else: return numero * fatorial(numero - 1)\n",
    "\n",
    "numero: int = 0\n",
    "\n",
    "print(\"Número: \")\n",
    "numero = int(input())\n",
    "\n",
    "print(\"Fatorial: de {}: {}\".format(str(numero), str(fatorial(numero))))\n"
   ]
  },
  {
   "attachments": {},
   "cell_type": "markdown",
   "metadata": {},
   "source": [
    "## Exercício 5"
   ]
  },
  {
   "cell_type": "code",
   "execution_count": 21,
   "metadata": {},
   "outputs": [
    {
     "name": "stdout",
     "output_type": "stream",
     "text": [
      "Número: \n",
      "Tabuada do 8: \n",
      "0\n",
      "8\n",
      "16\n",
      "24\n",
      "32\n",
      "40\n",
      "48\n",
      "56\n",
      "64\n",
      "72\n",
      "80\n"
     ]
    }
   ],
   "source": [
    "def tabuada(numero: int) -> None:\n",
    "    for i in range(11):\n",
    "        print(str(numero * i))\n",
    "\n",
    "numero: int = 0\n",
    "\n",
    "print(\"Número: \")\n",
    "numero = int(input())\n",
    "\n",
    "print(\"Tabuada do {}: \".format(str(numero)))\n",
    "tabuada(numero)"
   ]
  },
  {
   "attachments": {},
   "cell_type": "markdown",
   "metadata": {},
   "source": [
    "## Exercício 6"
   ]
  },
  {
   "cell_type": "code",
   "execution_count": 79,
   "metadata": {},
   "outputs": [
    {
     "name": "stdout",
     "output_type": "stream",
     "text": [
      "Dia de limite superior: \n",
      "Limite superior não pode ultrapassar o dia 30!\n"
     ]
    }
   ],
   "source": [
    "def temperatura(dia: int) -> float:\n",
    "    return 0.011 * dia ** 3 - 0.3 * dia ** 2 + 0.04 * dia\n",
    "\n",
    "def menor_dia_temperatura(limite_superior: int) -> int:\n",
    "    dia: int = 0\n",
    "    menor_temperatura: float = temperatura(0)\n",
    "\n",
    "    for i in range(1,limite_superior + 1):\n",
    "        if temperatura(i) < menor_temperatura: dia = i\n",
    "\n",
    "    return dia\n",
    "\n",
    "def main() -> str:\n",
    "    limite_superior: int = 0\n",
    "\n",
    "    print(\"Dia de limite superior: \")\n",
    "    limite_superior = int(input())\n",
    "\n",
    "    if limite_superior > 30: return \"Limite superior não pode ultrapassar o dia 30!\"\n",
    "\n",
    "    return \"Dia com menor temperatura: {}\".format(str(menor_dia_temperatura(limite_superior)))\n",
    "\n",
    "print(main())\n",
    "\n"
   ]
  },
  {
   "attachments": {},
   "cell_type": "markdown",
   "metadata": {},
   "source": [
    "## Exercício 7"
   ]
  },
  {
   "cell_type": "code",
   "execution_count": 7,
   "metadata": {},
   "outputs": [
    {
     "name": "stdout",
     "output_type": "stream",
     "text": [
      "\n",
      "**********************************\n",
      "JOGO: ADIVINHE O NÚMERO (0 a 100)\n",
      "\n",
      "O seu número é MENOR que o do computador\n",
      "O seu número é MENOR que o do computador\n",
      "O seu número é MAIOR que o do computador\n",
      "O seu número é MAIOR que o do computador\n",
      "O seu número é MENOR que o do computador\n",
      "O seu número é MENOR que o do computador\n",
      "O seu número é MENOR que o do computador\n",
      "O seu número é MENOR que o do computador\n",
      "O seu número é MENOR que o do computador\n",
      "O seu número é MENOR que o do computador\n",
      "PARABÉNS, VOCÊ ACERTOU O NÚMERO\n"
     ]
    }
   ],
   "source": [
    "import random\n",
    "\n",
    "def adivinha(numero_jogador: int, numero_computador: int) -> str:\n",
    "    if numero_jogador > numero_computador: return \"O seu número é MAIOR que o do computador\"\n",
    "    elif numero_jogador < numero_computador:return \"O seu número é MENOR que o do computador\"\n",
    "\n",
    "    return \"PARABÉNS, VOCÊ ACERTOU O NÚMERO\"\n",
    "\n",
    "numero_computador: int = random.randint(0,100)\n",
    "\n",
    "print(\"\\n**********************************\")\n",
    "print(\"JOGO: ADIVINHE O NÚMERO (0 a 100)\\n\")\n",
    "\n",
    "numero_jogador: int = -1\n",
    "\n",
    "while numero_jogador != numero_computador:\n",
    "    numero_jogador = int(input(\"DIGITE UM NÚMERO: \"))\n",
    "\n",
    "    print(adivinha(numero_jogador, numero_computador))"
   ]
  },
  {
   "attachments": {},
   "cell_type": "markdown",
   "metadata": {},
   "source": [
    "## Exercício 8"
   ]
  },
  {
   "cell_type": "code",
   "execution_count": 10,
   "metadata": {},
   "outputs": [
    {
     "name": "stdout",
     "output_type": "stream",
     "text": [
      "\n",
      "**********************************\n",
      "JOGO: ADIVINHE O NÚMERO (0 a 100)\n",
      "\n",
      "O seu número é MENOR que o do computador\n",
      "O seu número é MAIOR que o do computador\n",
      "O seu número é MAIOR que o do computador\n",
      "O seu número é MAIOR que o do computador\n",
      "O seu número é MENOR que o do computador\n",
      "O seu número é MENOR que o do computador\n",
      "O seu número é MENOR que o do computador\n",
      "PARABÉNS, VOCÊ ACERTOU O NÚMERO\n",
      "Tentativas: 8\n"
     ]
    }
   ],
   "source": [
    "import random\n",
    "\n",
    "def adivinha(numero_jogador: int, numero_computador: int) -> str:\n",
    "    if numero_jogador > numero_computador: return \"O seu número é MAIOR que o do computador\"\n",
    "    elif numero_jogador < numero_computador: return \"O seu número é MENOR que o do computador\"\n",
    "\n",
    "    return \"PARABÉNS, VOCÊ ACERTOU O NÚMERO\"\n",
    "\n",
    "numero_computador: int = random.randint(0,100)\n",
    "numero_jogador: int = 0\n",
    "tentativas: int = 0\n",
    "\n",
    "print(\"\\n**********************************\")\n",
    "print(\"JOGO: ADIVINHE O NÚMERO (0 a 100)\\n\")\n",
    "\n",
    "while numero_jogador != numero_computador:\n",
    "    numero_jogador = int(input(\"DIGITE UM NÚMERO: \"))\n",
    "\n",
    "    print(adivinha(numero_jogador, numero_computador))\n",
    "    tentativas += 1\n",
    "\n",
    "print(\"Tentativas: {}\".format(str(tentativas)))"
   ]
  },
  {
   "attachments": {},
   "cell_type": "markdown",
   "metadata": {},
   "source": [
    "## Exercício 9"
   ]
  },
  {
   "cell_type": "code",
   "execution_count": 12,
   "metadata": {},
   "outputs": [
    {
     "name": "stdout",
     "output_type": "stream",
     "text": [
      "\n",
      "**********************************\n",
      "JOGO: ADIVINHE O NÚMERO (0 a 100)\n",
      "\n",
      "O seu número é MENOR que o do computador\n",
      "O seu número é MENOR que o do computador\n",
      "O seu número é MENOR que o do computador\n",
      "O seu número é MENOR que o do computador\n",
      "O seu número é MENOR que o do computador\n",
      "O seu número é MENOR que o do computador\n",
      "O seu número é MENOR que o do computador\n",
      "O seu número é MENOR que o do computador\n",
      "O seu número é MENOR que o do computador\n",
      "PARABÉNS, VOCÊ ACERTOU O NÚMERO\n",
      "Tentativas: 10\n"
     ]
    }
   ],
   "source": [
    "import random\n",
    "\n",
    "def adivinha(numero_jogador: int, numero_computador: int) -> str:\n",
    "    if numero_jogador > numero_computador: return \"O seu número é MAIOR que o do computador\"\n",
    "    elif numero_jogador < numero_computador: return \"O seu número é MENOR que o do computador\"\n",
    "\n",
    "    return \"PARABÉNS, VOCÊ ACERTOU O NÚMERO\"\n",
    "\n",
    "numero_computador: int = random.randint(0,100)\n",
    "numero_jogador: int = 0\n",
    "tentativas: int = 0\n",
    "\n",
    "print(\"\\n**********************************\")\n",
    "print(\"JOGO: ADIVINHE O NÚMERO (0 a 100)\\n\")\n",
    "\n",
    "while numero_jogador != numero_computador:\n",
    "    numero_jogador = int(input(\"DIGITE UM NÚMERO (PARA DESISTIR, DIGITE -1): \"))\n",
    "\n",
    "    if numero_jogador == -1:\n",
    "        print(\"ATÉ MAIS\")\n",
    "        break\n",
    "\n",
    "    print(adivinha(numero_jogador, numero_computador))\n",
    "    tentativas += 1\n",
    "\n",
    "print(\"Tentativas: {}\".format(str(tentativas)))"
   ]
  },
  {
   "attachments": {},
   "cell_type": "markdown",
   "metadata": {},
   "source": [
    "## Exercício 10"
   ]
  },
  {
   "cell_type": "code",
   "execution_count": 2,
   "metadata": {},
   "outputs": [
    {
     "name": "stdout",
     "output_type": "stream",
     "text": [
      "\n",
      "**********************************\n",
      "JOGO: ADIVINHE O NÚMERO (0 a 100)\n",
      "\n",
      "O seu número é MENOR que o do computador\n",
      "O seu número é MENOR que o do computador\n",
      "O seu número é MENOR que o do computador\n",
      "O seu número é MENOR que o do computador\n",
      "O seu número é MAIOR que o do computador\n",
      "O seu número é MAIOR que o do computador\n",
      "O seu número é MAIOR que o do computador\n",
      "PARABÉNS, VOCÊ ACERTOU O NÚMERO\n",
      "Tentativas: 8\n"
     ]
    },
    {
     "ename": "ValueError",
     "evalue": "invalid literal for int() with base 10: ''",
     "output_type": "error",
     "traceback": [
      "\u001b[0;31m---------------------------------------------------------------------------\u001b[0m",
      "\u001b[0;31mValueError\u001b[0m                                Traceback (most recent call last)",
      "Cell \u001b[0;32mIn[2], line 19\u001b[0m\n\u001b[1;32m     17\u001b[0m \u001b[39mwhile\u001b[39;00m quer_jogar:\n\u001b[1;32m     18\u001b[0m     \u001b[39mwhile\u001b[39;00m numero_jogador \u001b[39m!=\u001b[39m numero_computador:\n\u001b[0;32m---> 19\u001b[0m         numero_jogador \u001b[39m=\u001b[39m \u001b[39mint\u001b[39;49m(\u001b[39minput\u001b[39;49m(\u001b[39m\"\u001b[39;49m\u001b[39mDIGITE UM NÚMERO (PARA DESISTIR, DIGITE -2; PARA INICIAR NOVA PARTIDA, -1): \u001b[39;49m\u001b[39m\"\u001b[39;49m))\n\u001b[1;32m     21\u001b[0m         \u001b[39mif\u001b[39;00m numero_jogador \u001b[39m==\u001b[39m \u001b[39m-\u001b[39m\u001b[39m1\u001b[39m:\n\u001b[1;32m     22\u001b[0m             \u001b[39mprint\u001b[39m(\u001b[39m\"\u001b[39m\u001b[39mOK! VAMOS REINICIAR\u001b[39m\u001b[39m\"\u001b[39m)\n",
      "\u001b[0;31mValueError\u001b[0m: invalid literal for int() with base 10: ''"
     ]
    }
   ],
   "source": [
    "import random\n",
    "\n",
    "def adivinha(numero_jogador: int, numero_computador: int) -> str:\n",
    "    if numero_jogador > numero_computador: return \"O seu número é MAIOR que o do computador\"\n",
    "    elif numero_jogador < numero_computador: return \"O seu número é MENOR que o do computador\"\n",
    "\n",
    "    return \"PARABÉNS, VOCÊ ACERTOU O NÚMERO\"\n",
    "\n",
    "numero_computador: int = random.randint(0,100)\n",
    "numero_jogador: int = 0\n",
    "tentativas: int = 0\n",
    "quer_jogar: bool = True\n",
    "\n",
    "print(\"\\n**********************************\")\n",
    "print(\"JOGO: ADIVINHE O NÚMERO (0 a 100)\\n\")\n",
    "\n",
    "while quer_jogar:\n",
    "    while numero_jogador != numero_computador:\n",
    "        numero_jogador = int(input(\"DIGITE UM NÚMERO (PARA DESISTIR, DIGITE -2; PARA INICIAR NOVA PARTIDA, -1): \"))\n",
    "\n",
    "        if numero_jogador == -1:\n",
    "            print(\"OK! VAMOS REINICIAR\")\n",
    "            tentativas = 0\n",
    "            break\n",
    "\n",
    "        if numero_jogador == -2:\n",
    "            print(\"ATÉ MAIS!\")\n",
    "            quer_jogar = False\n",
    "            break\n",
    "\n",
    "        print(adivinha(numero_jogador, numero_computador))\n",
    "        tentativas += 1\n",
    "\n",
    "    print(\"Tentativas: {}\".format(str(tentativas)))\n",
    "    numero_jogador = -999999"
   ]
  },
  {
   "attachments": {},
   "cell_type": "markdown",
   "metadata": {},
   "source": [
    "## Exercício 11"
   ]
  },
  {
   "cell_type": "code",
   "execution_count": 2,
   "metadata": {},
   "outputs": [
    {
     "name": "stdout",
     "output_type": "stream",
     "text": [
      "Limite inferior: \n",
      "Limite superior: \n",
      "Multiplos de 3 no intervalo: [3, 6, 9, 12]\n"
     ]
    }
   ],
   "source": [
    "def multiplos_de_tres(inferior: int, superior: int) -> list[int]:\n",
    "    multiplos: list[int] = []\n",
    "\n",
    "    for n in range(inferior, superior + 1):\n",
    "        if n % 3 == 0: multiplos.append(n)\n",
    "\n",
    "    return multiplos\n",
    "\n",
    "inferior: int = 0\n",
    "superior: int = 0\n",
    "\n",
    "print(\"Limite inferior: \")\n",
    "inferior = int(input())\n",
    "\n",
    "print(\"Limite superior: \")\n",
    "superior = int(input())\n",
    "\n",
    "print(\"Multiplos de 3 no intervalo: {}\".format(str(multiplos_de_tres(inferior, superior))))\n",
    "\n",
    "\n"
   ]
  },
  {
   "attachments": {},
   "cell_type": "markdown",
   "metadata": {},
   "source": [
    "## Exercício 12"
   ]
  },
  {
   "cell_type": "code",
   "execution_count": 5,
   "metadata": {},
   "outputs": [
    {
     "name": "stdout",
     "output_type": "stream",
     "text": [
      "Limite inferior: \n",
      "Limite superior: \n",
      "Limite divisor: \n",
      "Multiplos de 3 no intervalo: [2, 4, 6, 8, 10, 12]\n"
     ]
    }
   ],
   "source": [
    "def multiplos_de_tres(inferior: int, superior: int, divisor: int) -> list[int] | str:\n",
    "    if divisor == 0: return \"Não se pode dividir por 0!\"\n",
    "\n",
    "    multiplos: list[int] = []\n",
    "\n",
    "    for n in range(inferior, superior + 1):\n",
    "        if n % divisor == 0: multiplos.append(n)\n",
    "\n",
    "    return multiplos\n",
    "\n",
    "inferior: int = 0\n",
    "superior: int = 0\n",
    "divisor: int = 0\n",
    "\n",
    "print(\"Limite inferior: \")\n",
    "inferior = int(input())\n",
    "\n",
    "print(\"Limite superior: \")\n",
    "superior = int(input())\n",
    "\n",
    "print(\"Limite divisor: \")\n",
    "divisor = int(input())\n",
    "\n",
    "print(\"Multiplos de 3 no intervalo: {}\".format(str(multiplos_de_tres(inferior, superior, divisor))))\n",
    "\n",
    "\n"
   ]
  },
  {
   "attachments": {},
   "cell_type": "markdown",
   "metadata": {},
   "source": [
    "## Exercício 13"
   ]
  },
  {
   "cell_type": "code",
   "execution_count": 6,
   "metadata": {},
   "outputs": [
    {
     "name": "stdout",
     "output_type": "stream",
     "text": [
      "0 - GUARANI\n",
      "1 - SÃO PAULO\n",
      "2 - PALMEIRAS\n",
      "3 - CRUZEIRO\n",
      "4 - SANTOS\n",
      "5 - FERROVIÁRIA\n",
      "6 - JUVENTUS\n",
      "7 - GOIÁS\n",
      "8 - ÍBIS\n",
      "9 - SINOP\n"
     ]
    }
   ],
   "source": [
    "def imprime() -> None:\n",
    "    lista = [\"GUARANI\", \"SÃO PAULO\", \"PALMEIRAS\", \"CRUZEIRO\", \"SANTOS\", \"FERROVIÁRIA\",\n",
    "             \"JUVENTUS\", \"GOIÁS\", \"ÍBIS\", \"SINOP\"]\n",
    "    \n",
    "    for i in range(len(lista)):\n",
    "        print(\"{} - {}\".format(str(i), lista[i]))\n",
    "\n",
    "imprime()"
   ]
  },
  {
   "attachments": {},
   "cell_type": "markdown",
   "metadata": {},
   "source": [
    "## Exercício 14"
   ]
  },
  {
   "cell_type": "code",
   "execution_count": 26,
   "metadata": {},
   "outputs": [
    {
     "name": "stdout",
     "output_type": "stream",
     "text": [
      "Palpite: (0 para PEDRA, 1 para PAPEL e 2 para TESOURA)\n",
      "Computador: 2\n",
      "VOCÊ GANHOU!\n"
     ]
    }
   ],
   "source": [
    "from random import randint\n",
    "\n",
    "def jankepo(humano: int, computador: int) -> str:\n",
    "    matriz_verdade: list[list[int]] = [\n",
    "        [0, -1, 1], \n",
    "        [1, 0, -1],\n",
    "        [-1, 1, 0]\n",
    "    ]\n",
    "\n",
    "    resultado: int = matriz_verdade[humano][computador]\n",
    "\n",
    "    match resultado:\n",
    "        case -1:\n",
    "            return \"VOCÊ PERDEU!\"\n",
    "        \n",
    "        case 0:\n",
    "            return \"EMPATE!\"\n",
    "        \n",
    "        case 1:\n",
    "            return \"VOCÊ GANHOU!\"\n",
    "\n",
    "computador: int = int(randint(0,301)/100)\n",
    "humano: int = 0\n",
    "\n",
    "print(\"Palpite: (0 para PEDRA, 1 para PAPEL e 2 para TESOURA)\")\n",
    "humano = int(input())\n",
    "\n",
    "print(\"Computador: {}\".format(str(computador)))\n",
    "print(jankepo(humano, computador))\n"
   ]
  },
  {
   "attachments": {},
   "cell_type": "markdown",
   "metadata": {},
   "source": [
    "## Exercício 15"
   ]
  },
  {
   "cell_type": "code",
   "execution_count": 45,
   "metadata": {},
   "outputs": [
    {
     "name": "stdout",
     "output_type": "stream",
     "text": [
      "Palpite: (0 para PEDRA, 1 para PAPEL e 2 para TESOURA)\n",
      "Humano: 3\n",
      "OPÇÃO INVÁLIDA!\n"
     ]
    }
   ],
   "source": [
    "from random import randint\n",
    "\n",
    "def jankepo(humano: int, computador: int) -> str:\n",
    "    matriz_verdade: list[list[int]] = [\n",
    "        [0, -1, 1], \n",
    "        [1, 0, -1],\n",
    "        [-1, 1, 0]\n",
    "    ]\n",
    "\n",
    "    resultado: int = matriz_verdade[humano][computador]\n",
    "\n",
    "    match resultado:\n",
    "        case -1:\n",
    "            return \"VOCÊ PERDEU!\"\n",
    "        \n",
    "        case 0:\n",
    "            return \"EMPATE!\"\n",
    "        \n",
    "        case 1:\n",
    "            return \"VOCÊ GANHOU!\"\n",
    "        \n",
    "def main() -> str:\n",
    "    computador: int = int(randint(0,301)/100)\n",
    "    humano: int = 0\n",
    "\n",
    "    print(\"Palpite: (0 para PEDRA, 1 para PAPEL e 2 para TESOURA)\")\n",
    "    humano = int(input())\n",
    "\n",
    "    print(\"Humano: {}\".format(str(humano)))\n",
    "    if (humano < 0) | (humano > 2): return \"OPÇÃO INVÁLIDA!\"\n",
    "\n",
    "    print(\"Computador: {}\".format(str(computador)))\n",
    "\n",
    "    return jankepo(humano, computador)\n",
    "\n",
    "print(main())\n"
   ]
  }
 ],
 "metadata": {
  "kernelspec": {
   "display_name": "Python 3",
   "language": "python",
   "name": "python3"
  },
  "language_info": {
   "codemirror_mode": {
    "name": "ipython",
    "version": 3
   },
   "file_extension": ".py",
   "mimetype": "text/x-python",
   "name": "python",
   "nbconvert_exporter": "python",
   "pygments_lexer": "ipython3",
   "version": "3.11.2"
  },
  "orig_nbformat": 4
 },
 "nbformat": 4,
 "nbformat_minor": 2
}
