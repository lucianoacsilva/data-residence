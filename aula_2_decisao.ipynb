{
 "cells": [
  {
   "cell_type": "markdown",
   "metadata": {},
   "source": [
    "# Estruturas condicionais - Exercícios"
   ]
  },
  {
   "cell_type": "markdown",
   "metadata": {},
   "source": [
    "## Exercício 1"
   ]
  },
  {
   "cell_type": "code",
   "execution_count": 13,
   "metadata": {},
   "outputs": [
    {
     "name": "stdout",
     "output_type": "stream",
     "text": [
      "Triglicérides: \n",
      "Colesterol total: \n",
      "Avaliação triglicérides: NÍVEL ELEVADO; avaliação colesterol total: NÍVEL ELEVADO\n"
     ]
    }
   ],
   "source": [
    "def avalia_triglicerides(tg: float) -> str:\n",
    "    if tg < 150: return \"NÍVEL DESEJADO\"\n",
    "    elif (tg >= 150) & (tg < 200): return \"NÍVEL LÍMITROFE\"\n",
    "    return \"NÍVEL ELEVADO\"\n",
    "\n",
    "def avalia_colesterol_total(ct: float) -> str:\n",
    "    if ct < 200: return \"NÍVEL DESEJADO\"\n",
    "    elif (ct >= 200) & (ct < 240): return \"NÍVEL LÍMITROFE\"\n",
    "    return \"NÍVEL ELEVADO\" \n",
    "\n",
    "triglicerides: float = 0\n",
    "colesterol_total: float = 0\n",
    "\n",
    "print(\"Triglicérides: \")\n",
    "triglicerides = float(input())\n",
    "\n",
    "print(\"Colesterol total: \")\n",
    "colesterol_total = float(input())\n",
    "\n",
    "print(\"Avaliação triglicérides: {}; avaliação colesterol total: {}\".format(\n",
    "    str(avalia_triglicerides(triglicerides)),\n",
    "    str(avalia_colesterol_total(colesterol_total))\n",
    "))"
   ]
  },
  {
   "cell_type": "markdown",
   "metadata": {},
   "source": [
    "## Exercício 2"
   ]
  },
  {
   "cell_type": "code",
   "execution_count": 6,
   "metadata": {},
   "outputs": [
    {
     "name": "stdout",
     "output_type": "stream",
     "text": [
      "Primeiro operando: \n",
      "Operacao: \n",
      "Segundo operando: \n",
      "Resultado: ERRO! NÃO SE PODE DIVIR POR 0!\n"
     ]
    }
   ],
   "source": [
    "def adicao(num_a: float, num_b: float) -> float:\n",
    "    return num_a + num_b\n",
    "\n",
    "def subtracao(num_a: float, num_b: float) -> float:\n",
    "    return num_a - num_b\n",
    "\n",
    "def mulitplicacao(num_a: float, num_b: float) -> float:\n",
    "    return num_a * num_b\n",
    "\n",
    "def divisao(num_a: float, num_b: float) -> float | str:\n",
    "    if num_b == 0: return \"ERRO! NÃO SE PODE DIVIR POR 0!\"\n",
    "\n",
    "    return num_a/num_b\n",
    "\n",
    "op_1: float = 0\n",
    "operacao: str = \"\"\n",
    "op_2: float = 0\n",
    "resultado: float | str = 0\n",
    "\n",
    "print(\"Primeiro operando: \")\n",
    "op_1 = float(input())\n",
    "\n",
    "print(\"Operacao: \")\n",
    "operacao = str(input())\n",
    "\n",
    "print(\"Segundo operando: \")\n",
    "op_2 = float(input())\n",
    "\n",
    "match operacao:\n",
    "    case \"+\":\n",
    "        resultado = adicao(op_1, op_2)\n",
    "\n",
    "    case \"-\":\n",
    "        resultado = subtracao(op_1, op_2)\n",
    "\n",
    "    case \"*\":\n",
    "        resultado = mulitplicacao(op_1, op_2)\n",
    "\n",
    "    case \"/\":\n",
    "        resultado = divisao(op_1, op_2)\n",
    "\n",
    "print(\"Resultado: {}\".format(str(resultado)))\n"
   ]
  },
  {
   "attachments": {},
   "cell_type": "markdown",
   "metadata": {},
   "source": [
    "## Exercício 3"
   ]
  },
  {
   "cell_type": "code",
   "execution_count": 13,
   "metadata": {},
   "outputs": [
    {
     "name": "stdout",
     "output_type": "stream",
     "text": [
      "Primeiro número: \n",
      "Segundo número: \n",
      "Comparação: segundo número é maior!\n"
     ]
    }
   ],
   "source": [
    "def compara_numeros(num_1: float, num_2: float) -> str:\n",
    "    if num_1 == num_2: return \"números iguais!\"\n",
    "    elif num_1 > num_2: return \"primeiro número é maior!\"\n",
    "    return \"segundo número é maior!\"\n",
    "\n",
    "num_1: float = 0\n",
    "num_2: float = 0\n",
    "\n",
    "print(\"Primeiro número: \")\n",
    "num_1 = float(input())\n",
    "\n",
    "print(\"Segundo número: \")\n",
    "num_2 = float(input())\n",
    "\n",
    "print(\"Comparação: {}\".format(compara_numeros(num_1, num_2)))"
   ]
  },
  {
   "attachments": {},
   "cell_type": "markdown",
   "metadata": {},
   "source": [
    "## Exercício 4"
   ]
  },
  {
   "cell_type": "code",
   "execution_count": 38,
   "metadata": {},
   "outputs": [
    {
     "name": "stdout",
     "output_type": "stream",
     "text": [
      "Primeiro número: \n",
      "Segundo número: \n",
      "Terceiro número: \n",
      "Maior número: primeiro número é o maior!\n"
     ]
    }
   ],
   "source": [
    "def compara_numeros_3(num_1: float, num_2: float, num_3: float) -> float:\n",
    "    # Assume-se que o primeiro número é o maior e compara-se com os outros dois\n",
    "    resultado: str = \"primeiro número é o maior!\"\n",
    "    \n",
    "    if num_2 > num_1: \n",
    "        num_1 = num_2\n",
    "        resultado = \"segundo número é o maior!\"\n",
    "\n",
    "    if num_3 > num_1: \n",
    "        num_1 = num_3\n",
    "        resultado = \"terceiro número é o maior!\"\n",
    "\n",
    "    return resultado\n",
    "\n",
    "num_1: float = 0\n",
    "num_2: float = 0\n",
    "num_3: float = 0\n",
    "\n",
    "print(\"Primeiro número: \")\n",
    "num_1 = float(input())\n",
    "\n",
    "print(\"Segundo número: \")\n",
    "num_2 = float(input())\n",
    "\n",
    "print(\"Terceiro número: \")\n",
    "num_3 = float(input())\n",
    "\n",
    "print(\"Maior número: {}\".format(compara_numeros_3(num_1, num_2, num_3)))"
   ]
  },
  {
   "attachments": {},
   "cell_type": "markdown",
   "metadata": {},
   "source": [
    "# Exercícios extras"
   ]
  },
  {
   "attachments": {},
   "cell_type": "markdown",
   "metadata": {},
   "source": [
    "## 1"
   ]
  },
  {
   "cell_type": "code",
   "execution_count": 25,
   "metadata": {},
   "outputs": [
    {
     "name": "stdout",
     "output_type": "stream",
     "text": [
      "Senha: \n",
      "ACESSO NEGADO\n"
     ]
    }
   ],
   "source": [
    "def valida_senha(senha: str) -> str:\n",
    "    senha_correta: str = \"ABBA\"\n",
    "    return \"ACESSO PERMITIDO\" if senha == senha_correta else \"ACESSO NEGADO\"\n",
    "\n",
    "print(\"Senha: \")\n",
    "senha = input()\n",
    "\n",
    "print(valida_senha(senha))"
   ]
  },
  {
   "attachments": {},
   "cell_type": "markdown",
   "metadata": {},
   "source": [
    "## 2"
   ]
  },
  {
   "cell_type": "code",
   "execution_count": 60,
   "metadata": {},
   "outputs": [
    {
     "name": "stdout",
     "output_type": "stream",
     "text": [
      "Lados do triângulo: \n",
      "Primeiro lado: \n",
      "Segundo lado: \n",
      "Terceiro lado: \n",
      "Tipo de triângulo: isósceles\n"
     ]
    }
   ],
   "source": [
    "def tipo_triangulo(lado_1: float, lado_2: float, lado_3: float) -> str:\n",
    "    # Verifica se triângulo pode existir (a soma dos dois maiores lados tem que exceder o maior)\n",
    "    lados: list = [lado_1, lado_2, lado_3]\n",
    "    tipos: list = [\"escaleno\", \"isósceles\", \"equilátero\"]\n",
    "    lados.sort()\n",
    "\n",
    "    if lados[2] >= lados[0] + lados[1]: return \"triângulo não pode existir!\"\n",
    "    \n",
    "    tipo_indice: int = 0\n",
    "\n",
    "    if lado_1 == lado_2: tipo_indice += 1\n",
    "    if lado_1 == lado_3: tipo_indice += 1\n",
    "    # Caso equilátero\n",
    "    if tipo_indice == 2: return tipos[tipo_indice]\n",
    "    \n",
    "    if lado_2 == lado_3: tipo_indice += 1 \n",
    "\n",
    "    return tipos[tipo_indice]\n",
    "\n",
    "lado_1: float = 0\n",
    "lado_2: float = 0\n",
    "lado_3: float = 0\n",
    "\n",
    "print(\"Lados do triângulo: \")\n",
    "print(\"Primeiro lado: \")\n",
    "lado_1 = float(input())\n",
    "\n",
    "print(\"Segundo lado: \")\n",
    "lado_2 = float(input())\n",
    "\n",
    "print(\"Terceiro lado: \")\n",
    "lado_3 = float(input())\n",
    "\n",
    "print(\"Tipo de triângulo: {}\".format(tipo_triangulo(lado_1, lado_2, lado_3)))"
   ]
  },
  {
   "attachments": {},
   "cell_type": "markdown",
   "metadata": {},
   "source": [
    "## 3"
   ]
  },
  {
   "cell_type": "code",
   "execution_count": 3,
   "metadata": {},
   "outputs": [
    {
     "name": "stdout",
     "output_type": "stream",
     "text": [
      "Número: \n",
      "Paridade: IMPAR\n"
     ]
    }
   ],
   "source": [
    "def paridade(numero: int) -> str:\n",
    "    return \"PAR\" if numero % 2 == 0 else \"ÍMPAR\"\n",
    "\n",
    "numero: int = 0\n",
    "print(\"Número: \")\n",
    "\n",
    "numero = int(input())\n",
    "print(\"Paridade: {}\".format(str(paridade(numero))))"
   ]
  },
  {
   "attachments": {},
   "cell_type": "markdown",
   "metadata": {},
   "source": [
    "## 4"
   ]
  },
  {
   "cell_type": "code",
   "execution_count": 6,
   "metadata": {},
   "outputs": [
    {
     "name": "stdout",
     "output_type": "stream",
     "text": [
      "Primeiro número: \n",
      "Segundo número: \n",
      "INDIVISÍVEL\n"
     ]
    }
   ],
   "source": [
    "def divisivel(num_1: int, num_2: int) -> int:\n",
    "    if num_2 == 0: return \"ERRO: NENHUM NÚMERO É DIVISÍVEL POR 0\"\n",
    "\n",
    "    return \"DIVISÍVEL\" if num_1 % num_2 == 0 else \"INDIVISÍVEL\"\n",
    "\n",
    "num_1: int = 0\n",
    "num_2: int = 0\n",
    "\n",
    "print(\"Primeiro número: \")\n",
    "num_1 = int(input())\n",
    "\n",
    "print(\"Segundo número: \")\n",
    "num_2 = int(input())\n",
    "\n",
    "print(divisivel(num_1, num_2))"
   ]
  },
  {
   "attachments": {},
   "cell_type": "markdown",
   "metadata": {},
   "source": [
    "## 5"
   ]
  },
  {
   "cell_type": "code",
   "execution_count": 12,
   "metadata": {},
   "outputs": [
    {
     "name": "stdout",
     "output_type": "stream",
     "text": [
      "0.0\n",
      "Teste 1: ['REPROVADO', '']\n",
      "4.971428571428571\n",
      "Teste 2: ['REPROVADO', '']\n",
      "5.0\n",
      "Teste 3: ['APROVADO', '']\n",
      "7.971428571428571\n",
      "Teste 4: ['APROVADO', '']\n",
      "8.0\n",
      "Teste 5: ['APROVADO', 'PARABÉNS, O DESEMPENHO FOI MUITO BOM']\n",
      "8.971428571428572\n",
      "Teste 6: ['APROVADO', 'PARABÉNS, O DESEMPENHO FOI MUITO BOM']\n",
      "9.0\n",
      "Teste 7: ['APROVADO', 'PARABÉNS, VOCÊ FOI APROVADO COM LOUVOR']\n"
     ]
    }
   ],
   "source": [
    "def weighted_average(nota_1: float, nota_2: float) -> list[str]: \n",
    "    # Pesos internos da função (fixos), não são parâmetros de entrada\n",
    "    peso_1: float = 3\n",
    "    peso_2: float = 4\n",
    "\n",
    "    media: float = (nota_1 * peso_1 + nota_2 * peso_2)/(peso_1 + peso_2)\n",
    "\n",
    "    if media < 5: return [\"REPROVADO\", \"\"]\n",
    "    else:\n",
    "        aprovacao: str = \"APROVADO\"\n",
    "        if media < 8: return [aprovacao, \"\"]\n",
    "        if (media >= 8) & (media < 9): return [aprovacao, \"PARABÉNS, O DESEMPENHO FOI MUITO BOM\"]\n",
    "\n",
    "        return [aprovacao, \"PARABÉNS, VOCÊ FOI APROVADO COM LOUVOR\"]\n",
    "\n",
    "print(\"Teste 1: {}\".format(weighted_average(0, 0)))\n",
    "print(\"Teste 2: {}\".format(weighted_average(4, 5.7)))\n",
    "print(\"Teste 3: {}\".format(weighted_average(4, 5.75)))\n",
    "print(\"Teste 4: {}\".format(weighted_average(7, 8.7)))\n",
    "print(\"Teste 5: {}\".format(weighted_average(7, 8.75)))\n",
    "print(\"Teste 6: {}\".format(weighted_average(8, 9.7)))\n",
    "print(\"Teste 7: {}\".format(weighted_average(8, 9.75)))\n"
   ]
  },
  {
   "attachments": {},
   "cell_type": "markdown",
   "metadata": {},
   "source": [
    "## 6"
   ]
  },
  {
   "cell_type": "code",
   "execution_count": 24,
   "metadata": {},
   "outputs": [
    {
     "name": "stdout",
     "output_type": "stream",
     "text": [
      "Escala: \n",
      "Temperatura: \n",
      "Resultado conversão: 32.0 ºF = 0.0 ºC\n",
      "Escala: \n",
      "Temperatura: \n",
      "Resultado conversão: 273.15 K = 0.0 ºC\n",
      "Escala: \n",
      "Temperatura: \n",
      "Resultado conversão: 23.0 ºRa = -260.3722222222222 ºC\n",
      "Escala: \n",
      "Escala não aceita!\n"
     ]
    }
   ],
   "source": [
    "def farenheit_to_celsius(temp_farenheit: float) -> float:\n",
    "    return  5 * (temp_farenheit - 32)/9\n",
    "\n",
    "def kelvin_to_celsius(temp_kelvin: float) -> float:\n",
    "    return temp_kelvin - 273.15\n",
    "\n",
    "def reaumur_to_celsius(temp_reaumur: float) -> float:\n",
    "    return 5 * temp_reaumur / 4\n",
    "\n",
    "def rankine_to_celsius(temp_rankine: float) -> float:\n",
    "    return 5 * temp_rankine/9 - 273.15\n",
    "\n",
    "escala: str = \"\"\n",
    "temperatura: float = 0\n",
    "resultado: str = \"\"\n",
    "simbolos_escalas: dict[str, str] = {\n",
    "    \"FAR\": \"ºF\",\n",
    "    \"KEL\": \"K\",\n",
    "    \"REA\": \"ºRe\",\n",
    "    \"RAN\": \"ºRa\"\n",
    "}\n",
    "\n",
    "while(True):\n",
    "    print(\"Escala: \")\n",
    "    escala = input()\n",
    "\n",
    "    if escala == \"EXIT\":\n",
    "        print(\"Adeus!\")\n",
    "        break\n",
    "\n",
    "    if simbolos_escalas.keys().__contains__(escala) == False:\n",
    "        print(\"Escala não aceita!\")\n",
    "        break\n",
    "\n",
    "    print(\"Temperatura: \")\n",
    "    temperatura = float(input())\n",
    "\n",
    "    match escala:\n",
    "        case \"FAR\":\n",
    "            resultado = farenheit_to_celsius(temperatura)\n",
    "        \n",
    "        case \"KEL\":\n",
    "            resultado = kelvin_to_celsius(temperatura)\n",
    "\n",
    "        case \"REA\":\n",
    "            resultado = reaumur_to_celsius(temperatura)\n",
    "\n",
    "        case \"RAN\":\n",
    "            resultado = rankine_to_celsius(temperatura)\n",
    "\n",
    "    print(\"Resultado conversão: {} {} = {} ºC\".format(str(temperatura), str(simbolos_escalas[escala]), str(resultado)))\n",
    "\n",
    "\n",
    "\n",
    "\n",
    "\n",
    "\n"
   ]
  },
  {
   "attachments": {},
   "cell_type": "markdown",
   "metadata": {},
   "source": [
    "## 12"
   ]
  },
  {
   "cell_type": "code",
   "execution_count": 15,
   "metadata": {},
   "outputs": [
    {
     "name": "stdout",
     "output_type": "stream",
     "text": [
      "Valor de x: \n",
      "Resultado: 10.0\n"
     ]
    }
   ],
   "source": [
    "def divisao_polinomios(x: float) -> float | str:\n",
    "    if x == 0: return \"erro: não se pode dividir por 0\"\n",
    "    return (4 * x * x - 3 * x + 9)/x\n",
    "\n",
    "x: float = 0\n",
    "print(\"Valor de x: \")\n",
    "\n",
    "x = float(input())\n",
    "\n",
    "print(\"Resultado: {}\".format(str(divisao_polinomios(x))))\n"
   ]
  },
  {
   "attachments": {},
   "cell_type": "markdown",
   "metadata": {},
   "source": [
    "## 13"
   ]
  },
  {
   "cell_type": "code",
   "execution_count": 19,
   "metadata": {},
   "outputs": [
    {
     "name": "stdout",
     "output_type": "stream",
     "text": [
      "Ano: \n",
      "É bissexto? False\n"
     ]
    }
   ],
   "source": [
    "def e_bissexto(ano: int) -> bool:\n",
    "    return ((ano % 4 == 0) & (ano % 100 != 0)) | (ano % 400 == 0) \n",
    "\n",
    "ano: int = 0\n",
    "\n",
    "print(\"Ano: \")\n",
    "ano = int(input())\n",
    "\n",
    "print(\"É bissexto? {}\".format(str(e_bissexto(ano))))\n"
   ]
  }
 ],
 "metadata": {
  "kernelspec": {
   "display_name": "Python 3 (ipykernel)",
   "language": "python",
   "name": "python3"
  },
  "language_info": {
   "codemirror_mode": {
    "name": "ipython",
    "version": 3
   },
   "file_extension": ".py",
   "mimetype": "text/x-python",
   "name": "python",
   "nbconvert_exporter": "python",
   "pygments_lexer": "ipython3",
   "version": "3.11.2"
  }
 },
 "nbformat": 4,
 "nbformat_minor": 2
}
