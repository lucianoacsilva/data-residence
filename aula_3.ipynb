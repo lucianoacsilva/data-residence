{
 "cells": [
  {
   "attachments": {},
   "cell_type": "markdown",
   "metadata": {},
   "source": [
    "# Aula 3"
   ]
  },
  {
   "attachments": {},
   "cell_type": "markdown",
   "metadata": {},
   "source": []
  },
  {
   "attachments": {},
   "cell_type": "markdown",
   "metadata": {},
   "source": [
    "## Exercício 8"
   ]
  },
  {
   "cell_type": "code",
   "execution_count": 2,
   "metadata": {},
   "outputs": [
    {
     "name": "stdout",
     "output_type": "stream",
     "text": [
      "Ano imóvel: \n",
      "Ano atual: \n",
      "Idade imóvel: 23; Desconto: 15 %\n"
     ]
    }
   ],
   "source": [
    "def desconto(ano_imovel: int, ano_atual: int) -> int:\n",
    "    idade: int = ano_atual - ano_imovel\n",
    "\n",
    "    if idade < 5: return 0\n",
    "    elif idade >= 5 & idade < 20: return 15\n",
    "    elif idade >= 20 & idade < 40: return 25\n",
    "    else: return 30\n",
    "\n",
    "ano_imovel: int = 0\n",
    "ano_atual: int = 0\n",
    "\n",
    "print(\"Ano imóvel: \")\n",
    "ano_imovel = int(input())\n",
    "\n",
    "print(\"Ano atual: \")\n",
    "ano_atual = int(input())\n",
    "\n",
    "print(\"Idade imóvel: {}; Desconto: {} %\".format(str(ano_atual - ano_imovel), str(desconto(ano_imovel, ano_atual))))\n",
    "\n"
   ]
  },
  {
   "attachments": {},
   "cell_type": "markdown",
   "metadata": {},
   "source": [
    "## Exercício 9"
   ]
  },
  {
   "cell_type": "code",
   "execution_count": 5,
   "metadata": {},
   "outputs": [
    {
     "name": "stdout",
     "output_type": "stream",
     "text": [
      "Peso: \n",
      "Altura: \n",
      "Classificação segundo IMC: Obesidade\n"
     ]
    }
   ],
   "source": [
    "def imc(peso: float, altura: float) -> str:\n",
    "    imc: float = peso / (altura ** 2)\n",
    "\n",
    "    if imc < 18.5: return \"Baixo peso\"\n",
    "    elif (imc >= 18.5) & (imc < 25): return \"Normal\"\n",
    "    elif (imc >= 25) & (imc < 30): return \"Sobrepeso\"\n",
    "    else: return \"Obesidade\"\n",
    "\n",
    "peso: float = 0\n",
    "altura: float = 0\n",
    "\n",
    "print(\"Peso: \")\n",
    "peso = float(input())\n",
    "\n",
    "print(\"Altura: \")\n",
    "altura = float(input())\n",
    "\n",
    "print(\"Classificação segundo IMC: {}\".format(imc(peso, altura)))"
   ]
  },
  {
   "attachments": {},
   "cell_type": "markdown",
   "metadata": {},
   "source": [
    "## Exercício 10"
   ]
  },
  {
   "cell_type": "code",
   "execution_count": 11,
   "metadata": {},
   "outputs": [
    {
     "name": "stdout",
     "output_type": "stream",
     "text": [
      "Números: \n",
      "Número 1\n",
      "Número 2\n",
      "Número 3\n",
      "Estão em ordem crescente?: Não\n"
     ]
    }
   ],
   "source": [
    "def ordem_crescente(numeros: list[float]) -> str:\n",
    "    numeros_compare: list[float] = numeros.copy()\n",
    "    numeros_compare.sort()\n",
    "\n",
    "    if numeros == numeros_compare: return \"Sim\"\n",
    "\n",
    "    return \"Não\"\n",
    "\n",
    "print(\"Números: \")\n",
    "numeros: list[float] = []\n",
    "\n",
    "for i in range(3):\n",
    "    print(\"Número {}\".format(str(i + 1)))\n",
    "    numeros.append(float(input()))\n",
    "\n",
    "print(\"Estão em ordem crescente?: {}\".format(ordem_crescente(numeros)))"
   ]
  },
  {
   "attachments": {},
   "cell_type": "markdown",
   "metadata": {},
   "source": [
    "## Exercício 11"
   ]
  },
  {
   "cell_type": "code",
   "execution_count": 17,
   "metadata": {},
   "outputs": [
    {
     "name": "stdout",
     "output_type": "stream",
     "text": [
      "Nota 1: \n",
      "Nota 2: \n",
      "Frequência: \n",
      "Frequência: 80.0; Média: 5.0; Status: Exame\n"
     ]
    }
   ],
   "source": [
    "def aprovacao(frequencia: float, nota_1: float, nota_2: float) -> dict[str, any]: \n",
    "    media: float = (nota_1 + nota_2)/2\n",
    "\n",
    "    if frequencia < 75: \n",
    "        return {\n",
    "            \"media\": media,\n",
    "            \"status\": \"Reprovado\"\n",
    "        }\n",
    "    \n",
    "    if media < 4:\n",
    "        return {\n",
    "            \"media\": media,\n",
    "            \"status\": \"Reprovado\"\n",
    "        }\n",
    "    \n",
    "    elif (media >= 4) & (media < 6):\n",
    "        return {\n",
    "            \"media\": media,\n",
    "            \"status\": \"Exame\"\n",
    "        }\n",
    "    \n",
    "    else:\n",
    "        return {\n",
    "            \"media\": media,\n",
    "            \"status\": \"Aprovado\"\n",
    "        }\n",
    "\n",
    "nota_1: float = 0\n",
    "nota_2: float = 0\n",
    "frequencia: float = 0\n",
    "aprovado: dict[str, any] = {}\n",
    "\n",
    "print(\"Nota 1: \")\n",
    "nota_1 = float(input())\n",
    "\n",
    "print(\"Nota 2: \")\n",
    "nota_2 = float(input())\n",
    "\n",
    "print(\"Frequência: \")\n",
    "frequencia = float(input())\n",
    "\n",
    "aprovado = aprovacao(frequencia, nota_1, nota_2)\n",
    "\n",
    "print(\"Frequência: {}; Média: {}; Status: {}\".format(str(frequencia), str(aprovado[\"media\"]), aprovado[\"status\"]))"
   ]
  },
  {
   "attachments": {},
   "cell_type": "markdown",
   "metadata": {},
   "source": [
    "## Exercício 12"
   ]
  },
  {
   "cell_type": "code",
   "execution_count": 21,
   "metadata": {},
   "outputs": [
    {
     "name": "stdout",
     "output_type": "stream",
     "text": [
      "Valor de x: \n",
      "Resultado: 3999997.000009\n"
     ]
    }
   ],
   "source": [
    "def divisao_polinomios(x: float) -> float | str:\n",
    "    if x == 0: return \"erro: não se pode dividir por 0\"\n",
    "    return (4 * x * x - 3 * x + 9)/x\n",
    "\n",
    "x: float = 0\n",
    "print(\"Valor de x: \")\n",
    "\n",
    "x = float(input())\n",
    "\n",
    "print(\"Resultado: {}\".format(str(divisao_polinomios(x))))\n"
   ]
  }
 ],
 "metadata": {
  "kernelspec": {
   "display_name": "Python 3",
   "language": "python",
   "name": "python3"
  },
  "language_info": {
   "codemirror_mode": {
    "name": "ipython",
    "version": 3
   },
   "file_extension": ".py",
   "mimetype": "text/x-python",
   "name": "python",
   "nbconvert_exporter": "python",
   "pygments_lexer": "ipython3",
   "version": "3.11.2"
  },
  "orig_nbformat": 4
 },
 "nbformat": 4,
 "nbformat_minor": 2
}
