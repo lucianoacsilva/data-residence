{
 "cells": [
  {
   "cell_type": "markdown",
   "metadata": {},
   "source": []
  },
  {
   "attachments": {},
   "cell_type": "markdown",
   "metadata": {},
   "source": [
    "# Exercicios aula 2\n",
    "# Aluno: Luciano Augusto Campagnoli da Silva  "
   ]
  },
  {
   "attachments": {},
   "cell_type": "markdown",
   "metadata": {},
   "source": [
    "## Exercicio 1"
   ]
  },
  {
   "cell_type": "code",
   "execution_count": 1,
   "metadata": {},
   "outputs": [
    {
     "name": "stdout",
     "output_type": "stream",
     "text": [
      "Peso(kg): \n",
      "Altura(m): \n",
      "IMC (kg/m2):  23.781212841854934\n"
     ]
    }
   ],
   "source": [
    "def imc (peso: float, altura: float) -> float:\n",
    "    return peso/(altura * altura)\n",
    "\n",
    "print(\"Peso(kg): \")\n",
    "peso = float(input())\n",
    "\n",
    "print(\"Altura(m): \")\n",
    "altura = float(input())\n",
    "\n",
    "print(\"IMC (kg/m2): \", str(imc(peso, altura)))"
   ]
  },
  {
   "attachments": {},
   "cell_type": "markdown",
   "metadata": {},
   "source": [
    "## Exercício 2"
   ]
  },
  {
   "cell_type": "code",
   "execution_count": 2,
   "metadata": {},
   "outputs": [
    {
     "name": "stdout",
     "output_type": "stream",
     "text": [
      "Velocidade (m/s): \n",
      "Veloicade (km/h):  36.0\n"
     ]
    }
   ],
   "source": [
    "def msParaKmh(velocidadeMetrosPorSegundo: float) -> float:\n",
    "    return velocidadeMetrosPorSegundo * 3.6\n",
    "\n",
    "print(\"Velocidade (m/s): \")\n",
    "velocidadeMetrosPorSegundo = float(input())\n",
    "\n",
    "print(\"Veloicade (km/h): \", str(msParaKmh(velocidadeMetrosPorSegundo)))"
   ]
  },
  {
   "attachments": {},
   "cell_type": "markdown",
   "metadata": {},
   "source": [
    "## Exercicio 3"
   ]
  },
  {
   "cell_type": "code",
   "execution_count": 8,
   "metadata": {},
   "outputs": [
    {
     "name": "stdout",
     "output_type": "stream",
     "text": [
      "Distância trecho 0 (m): \n",
      "Tempo trecho 0 (m): \n",
      "Dados do trecho: \n",
      "Distância (m): 5.0\n",
      "Tempo (s): 2.0\n",
      "Velocidade média (m/s): 2.5\n",
      "\n",
      "Distância trecho 1 (m): \n",
      "Tempo trecho 1 (m): \n",
      "Dados do trecho: \n",
      "Distância (m): 10.0\n",
      "Tempo (s): 4.0\n",
      "Velocidade média (m/s): 2.5\n",
      "Aceleração entre trecho 1 e 0 (m/s2): 0.0\n",
      "\n",
      "Distância trecho 2 (m): \n",
      "Tempo trecho 2 (m): \n",
      "Dados do trecho: \n",
      "Distância (m): 20.0\n",
      "Tempo (s): 5.0\n",
      "Velocidade média (m/s): 4.0\n",
      "Aceleração entre trecho 2 e 1 (m/s2): 0.375\n",
      "\n",
      "Distância trecho 3 (m): \n",
      "Tempo trecho 3 (m): \n",
      "Dados do trecho: \n",
      "Distância (m): 7.0\n",
      "Tempo (s): 3.5\n",
      "Velocidade média (m/s): 2.0\n",
      "Aceleração entre trecho 3 e 2 (m/s2): -0.4\n",
      "\n",
      "Velocidade média de todo o percurso (m/s): 2.896551724137931\n"
     ]
    }
   ],
   "source": [
    "def velocidadeMedia(deslocamento: float, tempo: float) -> float:\n",
    "    return deslocamento/tempo\n",
    "\n",
    "def aceleracaoMedia(variacaoVelocidade: float, tempo: float) -> float:\n",
    "    return variacaoVelocidade/tempo\n",
    "\n",
    "trechosPista: list = []\n",
    "aceleracoesEntreTrechos: list = []\n",
    "distanciaTotal: float = 0\n",
    "tempoTotal: float = 0\n",
    "index: int = 1\n",
    "\n",
    "for i in range(4):\n",
    "    aceleracaoEntreTrechos: float = 0\n",
    "\n",
    "    print(\"Distância trecho {} (m): \".format(i))\n",
    "    distancia = float(input())\n",
    "\n",
    "    print(\"Tempo trecho {} (m): \".format(i))\n",
    "    tempo = float(input())\n",
    "\n",
    "    velMedia = velocidadeMedia(distancia, tempo)\n",
    "\n",
    "    distanciaTotal += distancia\n",
    "    tempoTotal += tempo\n",
    "\n",
    "    trechosPista.append({\n",
    "        \"distancia\": distancia,\n",
    "        \"tempo\": tempo,\n",
    "        \"velMedia\": velMedia\n",
    "    })\n",
    "\n",
    "    if(i != 0): aceleracaoEntreTrechos = (velMedia - trechosPista[i - 1][\"velMedia\"])/trechosPista[i - 1][\"tempo\"]\n",
    "\n",
    "    print(\"Dados do trecho: \")\n",
    "    print(\"Distância (m): {}\".format(str(distancia)))\n",
    "    print(\"Tempo (s): {}\".format(str(tempo)))\n",
    "    print(\"Velocidade média (m/s): {}\".format(str(velMedia)))\n",
    "\n",
    "    if(i != 0): print(\"Aceleração entre trecho {} e {} (m/s²): {}\".format(str(i), str(i - 1), str(aceleracaoEntreTrechos)))\n",
    "\n",
    "    print()\n",
    "\n",
    "print(\"Velocidade média de todo o percurso (m/s): {}\".format(str(distanciaTotal/tempoTotal)))\n"
   ]
  },
  {
   "attachments": {},
   "cell_type": "markdown",
   "metadata": {},
   "source": [
    "## Exercício 4"
   ]
  },
  {
   "cell_type": "code",
   "execution_count": 9,
   "metadata": {},
   "outputs": [
    {
     "name": "stdout",
     "output_type": "stream",
     "text": [
      "Instante da trajetória (s):\n",
      "Distância horizontal no instante 3.0 (m): 9.000000000000004\n",
      "Altura no instante 3.0 (m): -28.5565427318801\n"
     ]
    }
   ],
   "source": [
    "from math import sin, cos, pi\n",
    "v0: float = 6 # velocidade inicial em m/s (constante)\n",
    "teta: float = pi/3 # ângulo de inclinação em rad/s (constante)\n",
    "g: float = 9.81 # aceleração do campo gravitacional da Terra a nível do mar em m/s² (constante)\n",
    "\n",
    "def distancia(tempo: float) -> float:\n",
    "    return v0 * cos(teta) * tempo\n",
    "\n",
    "def altura(tempo: float) -> float:\n",
    "    return v0 * sin(teta) * tempo - (g * tempo * tempo) / 2\n",
    "\n",
    "tempo: float = 0\n",
    "\n",
    "print(\"Instante da trajetória (s):\")\n",
    "tempo = float(input())\n",
    "\n",
    "print(\"Distância horizontal no instante {} (m): {}\".format(str(tempo), str(distancia(tempo))))\n",
    "print(\"Altura no instante {} (m): {}\".format(str(tempo), str(altura(tempo))))"
   ]
  },
  {
   "attachments": {},
   "cell_type": "markdown",
   "metadata": {},
   "source": [
    "## Exercício 5"
   ]
  },
  {
   "cell_type": "code",
   "execution_count": 11,
   "metadata": {},
   "outputs": [
    {
     "name": "stdout",
     "output_type": "stream",
     "text": [
      "Ponto de origem: \n",
      "Coordenada x (m):\n",
      "Coordenada y (m):\n",
      "Ponto de destino: \n",
      "Coordenada x (m):\n",
      "Coordenada y (m):\n",
      "\n",
      "Distância entre origem e destino (m): 5.0\n"
     ]
    }
   ],
   "source": [
    "from math import sqrt, pow\n",
    "\n",
    "def distanciaEuclidiana(xo: float, yo: float, xd: float, yd: float) -> float:\n",
    "    return sqrt(pow(xd - xo, 2) + pow(yd - yo, 2))\n",
    "\n",
    "xo: float = 0\n",
    "yo: float = 0\n",
    "xd: float = 0\n",
    "yd: float = 0\n",
    "\n",
    "print(\"Ponto de origem: \")\n",
    "print(\"Coordenada x (m):\")\n",
    "xo = float(input())\n",
    "\n",
    "print(\"Coordenada y (m):\")\n",
    "yo = float(input())\n",
    "\n",
    "print(\"Ponto de destino: \")\n",
    "print(\"Coordenada x (m):\")\n",
    "xd = float(input())\n",
    "\n",
    "print(\"Coordenada y (m):\")\n",
    "yd = float(input())\n",
    "\n",
    "print()\n",
    "print(\"Distância entre origem e destino (m): {}\".format(str(distanciaEuclidiana(xo, yo, xd, yd))))\n"
   ]
  }
 ],
 "metadata": {
  "kernelspec": {
   "display_name": "Python 3",
   "language": "python",
   "name": "python3"
  },
  "language_info": {
   "codemirror_mode": {
    "name": "ipython",
    "version": 3
   },
   "file_extension": ".py",
   "mimetype": "text/x-python",
   "name": "python",
   "nbconvert_exporter": "python",
   "pygments_lexer": "ipython3",
   "version": "3.9.6"
  },
  "orig_nbformat": 4,
  "vscode": {
   "interpreter": {
    "hash": "31f2aee4e71d21fbe5cf8b01ff0e069b9275f58929596ceb00d14d90e3e16cd6"
   }
  }
 },
 "nbformat": 4,
 "nbformat_minor": 2
}
